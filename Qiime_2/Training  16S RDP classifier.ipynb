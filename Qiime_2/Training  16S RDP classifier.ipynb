{
 "cells": [
  {
   "cell_type": "markdown",
   "metadata": {},
   "source": [
    "export files as .qza files for qiime2"
   ]
  },
  {
   "cell_type": "code",
   "execution_count": null,
   "metadata": {},
   "outputs": [],
   "source": [
    "qiime tools import \\\n",
    "  --type 'FeatureData[Sequence]' \\\n",
    "  --input-path /gg_13_8_otus/rep_set/97_otus.fasta \\\n",
    "  --output-path /home/qiime2/Greenhouse_experiment_2017/16S/97_otus.qza\n",
    "\n",
    "qiime tools import \\\n",
    "  --type 'FeatureData[Taxonomy]' \\\n",
    "  --source-format HeaderlessTSVTaxonomyFormat \\\n",
    "  --input-path /home/qiime2/gg_13_8_otus/taxonomy/97_otu_taxonomy.txt \\\n",
    "  --output-path  /home/qiime2/Greenhouse_experiment_2017/16S/ref-97-taxonomy.qza"
   ]
  },
  {
   "cell_type": "code",
   "execution_count": null,
   "metadata": {},
   "outputs": [],
   "source": [
    "qiime feature-classifier extract-reads \\\n",
    "  --i-sequences /home/qiime2/Greenhouse_experiment_2017/16S/97_otus.qza \\\n",
    "  --p-f-primer GTGCCAGCMGCCGCGGTAA \\\n",
    "  --p-r-primer CCGYCAATTYMTTTRAGTTT \\\n",
    "  --p-trunc-len 120 \\\n",
    "  --o-reads /home/qiime2/Greenhouse_experiment_2017/16S/ref-97-taxonomy.qza"
   ]
  },
  {
   "cell_type": "code",
   "execution_count": null,
   "metadata": {},
   "outputs": [],
   "source": [
    "qiime feature-classifier fit-classifier-naive-bayes \\\n",
    "  --i-reference-reads /home/qiime2/gg_13_8_otus/ref-seqs.qza \\\n",
    "  --i-reference-taxonomy /home/qiime2/Greenhouse_experiment_2017/16S/ref-97-taxonomy.qza \\\n",
    "  --o-classifier /home/qiime2/gg_13_8_otus/classifier_97.qza"
   ]
  }
 ],
 "metadata": {
  "kernelspec": {
   "display_name": "Python 3",
   "language": "python",
   "name": "python3"
  },
  "language_info": {
   "codemirror_mode": {
    "name": "ipython",
    "version": 3
   },
   "file_extension": ".py",
   "mimetype": "text/x-python",
   "name": "python",
   "nbconvert_exporter": "python",
   "pygments_lexer": "ipython3",
   "version": "3.5.4"
  }
 },
 "nbformat": 4,
 "nbformat_minor": 2
}
