{
 "cells": [
  {
   "cell_type": "code",
   "execution_count": null,
   "metadata": {},
   "outputs": [],
   "source": [
    "#for removing ITS samples from our R1 sample (ITS4 primer)\n",
    "cutadapt -a TCCTCCGCTTATTGATATGC \\\n",
    "--match-read-wildcards \\\n",
    "-m 1 \\\n",
    "/home/qiime2/Greenhouse_experiment_2017/180612_BVDJ2/Gh_expt2017_A101_S101_L001_R1_001.fastq.gz > /home/qiime2/Greenhouse_experiment_2017/trimmed_16S/Gh_ept2017_A101_R1_001.fastq_trimmed.fastq"
   ]
  },
  {
   "cell_type": "code",
   "execution_count": null,
   "metadata": {},
   "outputs": [],
   "source": [
    "#Removing ITS sequences from our reads...\n",
    "cutadapt -a TCCTCCGCTTATTGATATGC \\\n",
    "-A GATGAAGAACGYAGYRAA \\\n",
    "--match-read-wildcards \\\n",
    "--discard-trimmed \\\n",
    "-m 1 \\\n",
    "-o /home/qiime2/Greenhouse_experiment_2017/16S/Gh_ept2017_A101_R1_001.fastq_trimmed.fastq \\\n",
    "-p /home/qiime2/Greenhouse_experiment_2017/16S/Gh_ept2017_A101_R2_001.fastq_trimmed.fastq \\\n",
    "/home/qiime2/Greenhouse_experiment_2017/unzipped_GH17-seqs/Gh_expt2017_A101_S101_L001_R1_001.fastq \\\n",
    "/home/qiime2/Greenhouse_experiment_2017/unzipped_GH17-seqs/Gh_expt2017_A101_S101_L001_R2_001.fastq "
   ]
  },
  {
   "cell_type": "code",
   "execution_count": null,
   "metadata": {},
   "outputs": [],
   "source": [
    "qiime tools import \\\n",
    "  --type 'SampleData[PairedEndSequencesWithQuality]' \\\n",
    "  --input-path /home/qiime2/Greenhouse_experiment_2017/manifest2_Gh2017.csv \\\n",
    "  --output-path /home/qiime2/Greenhouse_experiment_2017/16S/GH_2017_seq.qza \\\n",
    "  --source-format PairedEndFastqManifestPhred33"
   ]
  },
  {
   "cell_type": "code",
   "execution_count": null,
   "metadata": {},
   "outputs": [],
   "source": [
    "cutadapt \\\n",
    "-a CCGYCAATTYMTTTRAGTT \\\n",
    "-A GTGCCAGCMGCCGCGGTAA \\\n",
    "--match-read-wildcards \\\n",
    "-discard-untrimmed \\\n",
    "-m 1 \\\n",
    "-o /home/qiime2/Greenhouse_experiment_2017/trimmed_16S/${SAMPLE}_R1_trimmed.fastq \\\n",
    "-p /home/qiime2/Greenhouse_experiment_2017/trimmed_16S/${SAMPLE}_R2_trimmed.fastq \\\n",
    "/home/qiime2/Greenhouse_experiment_2017/unzipped_GH17-seqs/${SAMPLE}_R1_001.fastq \\\n",
    "/home/qiime2/Greenhouse_experiment_2017/unzipped_GH17-seqs/${SAMPLE}_R2_001.fastq\n"
   ]
  },
  {
   "cell_type": "markdown",
   "metadata": {},
   "source": [
    "doesn't work and we resorted to actual cutadapt program followed by qiime import"
   ]
  },
  {
   "cell_type": "code",
   "execution_count": null,
   "metadata": {},
   "outputs": [],
   "source": [
    "qiime dada2 denoise-paired --i-demultiplexed-seqs /home/qiime2/Greenhouse_experiment_2017/16S/GH_2017_seq.qza --p-trunc-len-f 0 --p-trunc-len-r 240 --p-trim-left-f 20 --p-trim-left-r 58 --p-max-ee 10 --verbose --o-table /home/qiime2/Greenhouse_experiment_2017/test/table.qza --p-trunc-q 0 --o-representative-sequences /home/qiime2/Greenhouse_experiment_2017/test/rep-seqs.qza\n"
   ]
  },
  {
   "cell_type": "code",
   "execution_count": null,
   "metadata": {},
   "outputs": [],
   "source": [
    "qiime feature-classifier classify-sklearn \\\n",
    "--i-classifier /home/qiime2/gg_13_8_otus/classifier.qza \\\n",
    "--i-reads  /home/qiime2/Greenhouse_experiment_2017/test/rep-seqs.qza \\\n",
    "--o-classification /home/qiime2/Greenhouse_experiment_2017/16S/rep_seq_16S.qza"
   ]
  },
  {
   "cell_type": "code",
   "execution_count": null,
   "metadata": {},
   "outputs": [],
   "source": [
    "qiime tools export /home/qiime2/Greenhouse_experiment_2017/16S/test/rep-seq.qza \\\n",
    "--output-dir /home/qiime2/Greenhouse_experiment_2017/16S/Export"
   ]
  },
  {
   "cell_type": "code",
   "execution_count": null,
   "metadata": {},
   "outputs": [],
   "source": [
    "qiime tools export home/qiime2/Greenhouse_experiment_2017/test/table.qza \\\n",
    "--output-dir /home/qiime2/Greenhouse_experiment_2017/16S/Export"
   ]
  },
  {
   "cell_type": "code",
   "execution_count": null,
   "metadata": {},
   "outputs": [],
   "source": [
    "biom add-metadata \\\n",
    "-i /home/qiime2/Greenhouse_experiment_2017/16S/Export/feature-table.biom \\\n",
    "-o /home/qiime2/Greenhouse_experiment_2017/16S/GH_2017_16S_table.biom \\\n",
    "--observation-metadata-fp /home/qiime2/Greenhouse_experiment_2017/16S/Export/taxonomy.tsv \\\n",
    "--sc-separated taxonomy"
   ]
  },
  {
   "cell_type": "code",
   "execution_count": null,
   "metadata": {},
   "outputs": [],
   "source": [
    "biom convert \\\n",
    "-i /home/qiime2/Greenhouse_experiment_2017/16S/GH_2017_16S_table.biom \\\n",
    "-o /home/qiime2/Greenhouse_experiment_2017/16S/GH_2017_16S_table.txt \\\n",
    "--to-tsv \\\n",
    "--header-key taxonomy"
   ]
  }
 ],
 "metadata": {
  "kernelspec": {
   "display_name": "Python 3",
   "language": "python",
   "name": "python3"
  },
  "language_info": {
   "codemirror_mode": {
    "name": "ipython",
    "version": 3
   },
   "file_extension": ".py",
   "mimetype": "text/x-python",
   "name": "python",
   "nbconvert_exporter": "python",
   "pygments_lexer": "ipython3",
   "version": "3.6.1"
  }
 },
 "nbformat": 4,
 "nbformat_minor": 2
}
