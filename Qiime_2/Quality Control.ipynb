{
 "cells": [
  {
   "cell_type": "markdown",
   "metadata": {},
   "source": [
    "Now with our ITS samples removed, we will now proceed to the quality control step. \n",
    "But first we will make some new directories for our files"
   ]
  },
  {
   "cell_type": "code",
   "execution_count": null,
   "metadata": {},
   "outputs": [],
   "source": [
    "mkdir /test/GH_2017_16S"
   ]
  },
  {
   "cell_type": "markdown",
   "metadata": {},
   "source": [
    "we need to visualize where we would like to cut out samples. And so we can convert our .qza to a .qzv file for visualization "
   ]
  },
  {
   "cell_type": "code",
   "execution_count": null,
   "metadata": {},
   "outputs": [],
   "source": [
    "qiime demux summarize \\\n",
    "--i-data home/qiime2/Greenhouse_experiment_2017/ITS/GH_2017_seq.qza \\\n",
    "--o-visualization test /ITS/Ghexpt2017_16S_test_trimmed.qzv"
   ]
  },
  {
   "cell_type": "code",
   "execution_count": null,
   "metadata": {},
   "outputs": [],
   "source": [
    "qiime demux summarize \\\n",
    "--i-data /home/qiime2/Greenhouse_experiment_2017/ITS/Ghexpt2017_ITS_trimmed.qza \\\n",
    "--o-visualization /home/qiime2/Greenhouse_experiment_2017/ITS/Ghexpt2017_ITS_trimmed.qzv"
   ]
  },
  {
   "cell_type": "code",
   "execution_count": null,
   "metadata": {},
   "outputs": [],
   "source": [
    "qiime demux summarize \\\n",
    "--i-data /home/qiime2/Greenhouse_experiment_2017/16S/Ghexpt2017_16S_trimmed.qza \\\n",
    "--o-visualization /home/qiime2/Greenhouse_experiment_2017/16S/Ghexpt2017_16S_trimmed.qzv"
   ]
  },
  {
   "cell_type": "code",
   "execution_count": null,
   "metadata": {},
   "outputs": [],
   "source": [
    "qiime tools view /home/qiime2/Greenhouse_experiment_2017/ITS/Ghexpt2017_ITS_trimmed.qzv"
   ]
  },
  {
   "cell_type": "markdown",
   "metadata": {},
   "source": [
    "Based on our visualization, we can now figure out how to cut our samples"
   ]
  },
  {
   "cell_type": "code",
   "execution_count": null,
   "metadata": {},
   "outputs": [],
   "source": [
    "qiime dada2 denoise-paired \\\n",
    "--i-demultiplexed-seqs /home/qiime2/Greenhouse_experiment_2017/ITS/Ghexpt2017_ITS_trimmed.qza \\\n",
    "--p-trunc-len-f 276 \\\n",
    "--p-trunc-len-r 214 \\\n",
    "--p-trim-left-f 6 \\\n",
    "--p-trim-left-r 6 \\\n",
    "--p-max-ee 4 \\\n",
    "--o-table /home/qiime2/Greenhouse_experiment_2017/ITS/table.qza \\\n",
    "--o-representative-sequences /home/qiime2/Greenhouse_experiment_2017/ITS/rep-seqs.qza\n",
    "\n"
   ]
  },
  {
   "cell_type": "markdown",
   "metadata": {},
   "source": [
    "now we can look at our table!\n",
    "\n",
    "**ran into a error check out this link:**  https://forum.qiime2.org/t/dada2-error-return-code-1-mismatched-sequences/2770/18"
   ]
  },
  {
   "cell_type": "markdown",
   "metadata": {},
   "source": [
    "to exit press ctrl + c, q key "
   ]
  },
  {
   "cell_type": "code",
   "execution_count": null,
   "metadata": {},
   "outputs": [],
   "source": [
    "qiime feature-table summarize \\\n",
    "--i-table table.qza \\\n",
    "--o-visulization table.qzv \\\n",
    "--m-sample-metadata-file XXX.tsv"
   ]
  }
 ],
 "metadata": {
  "kernelspec": {
   "display_name": "Python 3",
   "language": "python",
   "name": "python3"
  },
  "language_info": {
   "codemirror_mode": {
    "name": "ipython",
    "version": 3
   },
   "file_extension": ".py",
   "mimetype": "text/x-python",
   "name": "python",
   "nbconvert_exporter": "python",
   "pygments_lexer": "ipython3",
   "version": "3.5.4"
  }
 },
 "nbformat": 4,
 "nbformat_minor": 2
}
