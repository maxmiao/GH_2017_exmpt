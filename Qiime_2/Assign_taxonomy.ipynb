{
 "cells": [
  {
   "cell_type": "markdown",
   "metadata": {},
   "source": [
    "Before assiging taxonomy to our reads first need to download somes files... "
   ]
  },
  {
   "cell_type": "code",
   "execution_count": null,
   "metadata": {},
   "outputs": [],
   "source": [
    "wget -O \"classifier.qza\" \"https://data.qiime2.org/2017.12/common/gg-13-8-99-515-806-nb-classifier.qza\""
   ]
  },
  {
   "cell_type": "code",
   "execution_count": null,
   "metadata": {},
   "outputs": [],
   "source": [
    "qiime feature-classifier classify-sklearn \\\n",
    "--i-classifier classifier.qza \\\n",
    "--i-reads /home/qiime2/Greenhouse_experiment_2017/16S/rep-seqs.qza \\\n",
    "--o-classification /home/qiime2/Greenhouse_experiment_2017/16S/rep_seq_assign_16S.qza\n"
   ]
  },
  {
   "cell_type": "markdown",
   "metadata": {},
   "source": [
    "Make human readable OTU table with taxonomy "
   ]
  },
  {
   "cell_type": "code",
   "execution_count": null,
   "metadata": {},
   "outputs": [],
   "source": [
    "qiime tools export /home/qiime2/Greenhouse_experiment_2017/16S/rep_seq_assign_16S.qza \\\n",
    "--output-dir /home/qiime2/Greenhouse_experiment_2017/16S/Export"
   ]
  },
  {
   "cell_type": "code",
   "execution_count": null,
   "metadata": {},
   "outputs": [],
   "source": [
    "qiime tools export /home/qiime2/Greenhouse_experiment_2017/16S/table.qza \\\n",
    "--output-dir /home/qiime2/Greenhouse_experiment_2017/16S/Export"
   ]
  },
  {
   "cell_type": "markdown",
   "metadata": {},
   "source": [
    "now need to open taxonomy.tsv file\n",
    "change the header column names \"Feature ID\", \"Taxon\", and \"Confidence\" to \"read\", \"OTUID\", \"taxonomy\", and \"confidence\"\n",
    "Note: Use tabs to seperate the columns "
   ]
  },
  {
   "cell_type": "markdown",
   "metadata": {},
   "source": [
    "We will add the taxonomy info to the OTU table:"
   ]
  },
  {
   "cell_type": "code",
   "execution_count": null,
   "metadata": {},
   "outputs": [],
   "source": [
    "biom add-metadata \\\n",
    "-i /home/qiime2/Greenhouse_experiment_2017/16S/Export/feature-table.biom \\\n",
    "-o /home/qiime2/Greeenhouse_experiment_2017/16S/GH_2017_16S_table.biom \\\n",
    "--observation-metadata-fp /home/qiime2/Greenhouse_experiment_2017/GH_2017_ITS/Export/taxonomy.tsv \\\n",
    "--sc- separated taxonomy"
   ]
  },
  {
   "cell_type": "code",
   "execution_count": null,
   "metadata": {},
   "outputs": [],
   "source": [
    "biom convert \\\n",
    "-i /home/qiime2/Greenhouse_experiment_2017/Gh_2017_ITS/GH_2017_16S_table.biom \\\n",
    "-o /home/qiime2/Greenhouse_experiment_2017/Gh_2017_ITS/GH_2017_16S_table.txt \\\n",
    "--to-tsv \\\n",
    "--header-key taxonomy"
   ]
  }
 ],
 "metadata": {
  "kernelspec": {
   "display_name": "Python 3",
   "language": "python",
   "name": "python3"
  },
  "language_info": {
   "codemirror_mode": {
    "name": "ipython",
    "version": 3
   },
   "file_extension": ".py",
   "mimetype": "text/x-python",
   "name": "python",
   "nbconvert_exporter": "python",
   "pygments_lexer": "ipython3",
   "version": "3.5.4"
  }
 },
 "nbformat": 4,
 "nbformat_minor": 2
}
