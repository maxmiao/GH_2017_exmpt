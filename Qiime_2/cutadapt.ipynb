{
 "cells": [
  {
   "cell_type": "markdown",
   "metadata": {},
   "source": [
    "Having issues using qiime2 cutadapt for certain sequences and so we had to resort to using the actual cutadapt tool on our fastq.gz sequences...\n",
    "Might actually have to write a python for-loop for this portion..."
   ]
  },
  {
   "cell_type": "markdown",
   "metadata": {},
   "source": [
    "But first! We will have to unzip all of our fastq.gz files and make a new directory for our \n",
    "fastq files. "
   ]
  },
  {
   "cell_type": "code",
   "execution_count": 1,
   "metadata": {},
   "outputs": [
    {
     "ename": "SyntaxError",
     "evalue": "invalid syntax (<ipython-input-1-c539394c1258>, line 1)",
     "output_type": "error",
     "traceback": [
      "\u001b[0;36m  File \u001b[0;32m\"<ipython-input-1-c539394c1258>\"\u001b[0;36m, line \u001b[0;32m1\u001b[0m\n\u001b[0;31m    gunzip -k -f /180612_BVDJ2/*.gz\u001b[0m\n\u001b[0m                             ^\u001b[0m\n\u001b[0;31mSyntaxError\u001b[0m\u001b[0;31m:\u001b[0m invalid syntax\n"
     ]
    }
   ],
   "source": [
    "gunzip -k -f 180612_BVDJ2/*.gz\n",
    "mkdir unzipped_GH17-seqs/\n",
    "mv /180612_BVDJ2/*.fastq unzipped_GH17-seqs/"
   ]
  },
  {
   "cell_type": "markdown",
   "metadata": {},
   "source": [
    "Solution: use cutadapt tool outside of qiime2. Because we have to input R1 and R2 files seperately for dada2 have to input samples not as paired end. For example: "
   ]
  },
  {
   "cell_type": "code",
   "execution_count": null,
   "metadata": {},
   "outputs": [],
   "source": [
    "#for removing 16S samples from our R1 sample (926r, primer)\n",
    "cutadapt -a CCGYCAATTYMTTTRAGTT \\\n",
    "--match-read-wildcards \\\n",
    "--discard-trimmed \\\n",
    "-m 1 \\\n",
    "/home/qiime2/Greenhouse_experiment_2017/unzipped_GH17-seqs/Gh_expt2017_A101_S101_L001_R1_001.fastq > /home/qiime2/Greenhouse_experiment_2017/trimmed_ITS/Gh_ept2017_A101_R1_001.fastq_trimmed.fastq"
   ]
  },
  {
   "cell_type": "code",
   "execution_count": null,
   "metadata": {},
   "outputs": [],
   "source": [
    "#for removing 16S samples from our R2 sample (F515, primer)\n",
    "cutadapt -a GTGCCAGCMGCCGCGGTAA \\\n",
    "--match-read-wildcards \\\n",
    "-m 1 \\\n",
    "/home/qiime2/Greenhouse_experiment_2017/unzipped_GH17-seqs/Gh_expt2017_A101_S101_L001_R2_001.fastq > /home/qiime2/Greenhouse_experiment_2017/trimmed_ITS/Gh_ept2017_A101_R1_001.fastq_trimmed.fastq"
   ]
  },
  {
   "cell_type": "code",
   "execution_count": null,
   "metadata": {},
   "outputs": [],
   "source": [
    "#for removing ITS samples from our R1 sample (ITS4 primer)\n",
    "cutadapt -a TCCTCCGCTTATTGATATGC \\\n",
    "--match-read-wildcards \\\n",
    "-m 1 \\\n",
    "/home/qiime2/Greenhouse_experiment_2017/180612_BVDJ2/Gh_expt2017_A101_S101_L001_R1_001.fastq.gz > /home/qiime2/Greenhouse_experiment_2017/trimmed_16S/Gh_ept2017_A101_R1_001.fastq_trimmed.fastq"
   ]
  },
  {
   "cell_type": "code",
   "execution_count": null,
   "metadata": {},
   "outputs": [],
   "source": [
    "#for removing ITS samples from our R2 sample (ITS4 primer)\n",
    "cutadapt -a TCCTCCGCTTATTGATATGC \\\n",
    "--match-read-wildcards \\\n",
    "-m 1 \\\n",
    "/home/qiime2/Greenhouse_experiment_2017/180612_BVDJ2/Gh_expt2017_A101_S101_L001_R1_001.fastq.gz > /home/qiime2/Greenhouse_experiment_2017/trimmed_16S/Gh_ept2017_A101_R1_001.fastq_trimmed.fastq"
   ]
  },
  {
   "cell_type": "markdown",
   "metadata": {},
   "source": [
    "because we can only do these samples one at a time we will have to write a for-loop in the shell using bash script. Also, we will run grep our test samples to see what's up. "
   ]
  },
  {
   "cell_type": "code",
   "execution_count": 3,
   "metadata": {
    "scrolled": true
   },
   "outputs": [
    {
     "ename": "SyntaxError",
     "evalue": "invalid syntax (<ipython-input-3-e41f56baf5ef>, line 1)",
     "output_type": "error",
     "traceback": [
      "\u001b[0;36m  File \u001b[0;32m\"<ipython-input-3-e41f56baf5ef>\"\u001b[0;36m, line \u001b[0;32m1\u001b[0m\n\u001b[0;31m    grep \"TCCTCCGCTTATTGATATGC\" unzipped_GH17-seqs/Gh_expt2017_A200_S200_L001_R1_trimmed.fastq\u001b[0m\n\u001b[0m                              ^\u001b[0m\n\u001b[0;31mSyntaxError\u001b[0m\u001b[0;31m:\u001b[0m invalid syntax\n"
     ]
    }
   ],
   "source": [
    "grep TCCTCCGCTTATTGATATGC -c unzipped_GH17-seqs/Gh_expt2017_A101_S101_L001_R2_001.fastq"
   ]
  },
  {
   "cell_type": "code",
   "execution_count": 4,
   "metadata": {
    "scrolled": true
   },
   "outputs": [
    {
     "ename": "SyntaxError",
     "evalue": "invalid syntax (<ipython-input-4-926c38af436e>, line 1)",
     "output_type": "error",
     "traceback": [
      "\u001b[0;36m  File \u001b[0;32m\"<ipython-input-4-926c38af436e>\"\u001b[0;36m, line \u001b[0;32m1\u001b[0m\n\u001b[0;31m    grep CCGYCAATTYMTTTRAGTT -c unzipped_GH17-seqs/Gh_expt2017_A101_S101_L001_R2_001.fastq\u001b[0m\n\u001b[0m                           ^\u001b[0m\n\u001b[0;31mSyntaxError\u001b[0m\u001b[0;31m:\u001b[0m invalid syntax\n"
     ]
    }
   ],
   "source": [
    "grep CCG[C,T]CAATT[C,T][A,C]TTT[A,G]AGTT -c unzipped_GH17-seqs/Gh_expt2017_A101_S101_L001_R1_001.fastq"
   ]
  },
  {
   "cell_type": "markdown",
   "metadata": {},
   "source": [
    "10479 is the approx. # of reads from the \"total\" that contain the ITS4 forward primer. Therefore, 5299 of the reads are leftover. However, we got 2742 counts for bacteria/archea, which is werid because total is ~15000 reads.\n"
   ]
  },
  {
   "cell_type": "code",
   "execution_count": null,
   "metadata": {},
   "outputs": [],
   "source": [
    "grep CCG[A-Z]CAATT[A-Z][A-Z]TTT[A-Z]AGTT -c trimmed_ITS/Gh_ept2017_A101_R1_001.fastq_trimmed.fastq"
   ]
  },
  {
   "cell_type": "markdown",
   "metadata": {},
   "source": [
    "after grep we get 10479 counts of our ITS primer sequence from the trimmed ITS sequence. Therefore, cutadapt didn't remove any ITS sequences from our fastq file.  "
   ]
  },
  {
   "cell_type": "code",
   "execution_count": null,
   "metadata": {},
   "outputs": [],
   "source": [
    "grep CCG[A-Z]CAATT[A-Z][A-Z]TTT[A-Z]AGTTC -c trimmed_ITS/Gh_ept2017_A101_R1_001.fastq_trimmed.fastq"
   ]
  },
  {
   "cell_type": "markdown",
   "metadata": {},
   "source": [
    "after cutadapting the 16S primers, we only found **12** counts of our 926r primer. So it looks like cutadapt worked! Because its definitely a lot less than 2742 reads/counts"
   ]
  },
  {
   "cell_type": "code",
   "execution_count": null,
   "metadata": {},
   "outputs": [],
   "source": [
    "grep CCG[A-Z]CAATT[A-Z][A-Z]TTT[A-Z]AGTT -c trimmed_16S/Gh_ept2017_A101_R1_001.fastq_trimmed.fastq"
   ]
  },
  {
   "cell_type": "markdown",
   "metadata": {},
   "source": [
    "Grep shows that in our trimmed 16S samples there are 2742 counts of the 962r primer for bacteria."
   ]
  },
  {
   "cell_type": "code",
   "execution_count": null,
   "metadata": {},
   "outputs": [],
   "source": [
    "grep CCG[A-Z]CAATT[A-Z][A-Z]TTT[A-Z]AGTT -c trimmed_16S/Gh_ept2017_A101_R2_001.fastq_trimmed.fastq"
   ]
  },
  {
   "cell_type": "code",
   "execution_count": null,
   "metadata": {},
   "outputs": [],
   "source": [
    "gzip -k -r /home/qiime2/Greenhouse_experiment_2017/trimmed_16S"
   ]
  },
  {
   "cell_type": "markdown",
   "metadata": {},
   "source": [
    "Here we will import our fastq.gz files to qiime2 by converting into a format that qiime2 recognizes which is .qza file. "
   ]
  },
  {
   "cell_type": "code",
   "execution_count": 1,
   "metadata": {
    "scrolled": true
   },
   "outputs": [
    {
     "ename": "SyntaxError",
     "evalue": "invalid syntax (<ipython-input-1-0baa6b92f07c>, line 1)",
     "output_type": "error",
     "traceback": [
      "\u001b[0;36m  File \u001b[0;32m\"<ipython-input-1-0baa6b92f07c>\"\u001b[0;36m, line \u001b[0;32m1\u001b[0m\n\u001b[0;31m    qiime tools import   --type 'SampleData[PairedEndSequencesWithQuality]'   --input-path /home/qiime2/Greenhouse_experiment_2017/test_manifest.csv   --output-path /home/qiime2/Greenhouse_experiment_2017/GH_2017_test_seq.qza   --source-format PairedEndFastqManifestPhred33\u001b[0m\n\u001b[0m              ^\u001b[0m\n\u001b[0;31mSyntaxError\u001b[0m\u001b[0;31m:\u001b[0m invalid syntax\n"
     ]
    }
   ],
   "source": [
    "qiime tools import \\\n",
    "  --type 'SampleData[PairedEndSequencesWithQuality]' \\\n",
    "  --input-path /home/qiime2/Greenhouse_experiment_2017/manifestITS_Gh2017.csv \\\n",
    "  --output-path /home/qiime2/Greenhouse_experiment_2017/ITS/GH_2017_seq.qza \\\n",
    "  --source-format PairedEndFastqManifestPhred33"
   ]
  },
  {
   "cell_type": "markdown",
   "metadata": {},
   "source": [
    "Ran in to issues when trying to run samples through dada2, there was a mismatch error for some of our sequences according to the error message. We will first try to redo our cutadapt with a slight change:"
   ]
  },
  {
   "cell_type": "code",
   "execution_count": null,
   "metadata": {},
   "outputs": [],
   "source": [
    "#Removing 16S sequences from our reads...\n",
    "cutadapt -a CCGYCAATTYMTTTRAGTT \\\n",
    "-A GTGCCAGCMGCCGCGGTAA \\\n",
    "--match-read-wildcards \\\n",
    "--discard-trimmed \\\n",
    "-m 1 \\\n",
    "-o /home/qiime2/Greenhouse_experiment_2017/trimmed_ITS/Gh_ept2017_A101_R1_001.fastq_trimmed.fastq \\\n",
    "-p /home/qiime2/Greenhouse_experiment_2017/trimmed_ITS/Gh_ept2017_A101_R2_001.fastq_trimmed.fastq \\\n",
    "/home/qiime2/Greenhouse_experiment_2017/unzipped_GH17-seqs/Gh_expt2017_A101_S101_L001_R1_001.fastq \\\n",
    "/home/qiime2/Greenhouse_experiment_2017/unzipped_GH17-seqs/Gh_expt2017_A101_S101_L001_R2_001.fastq "
   ]
  },
  {
   "cell_type": "code",
   "execution_count": null,
   "metadata": {},
   "outputs": [],
   "source": [
    "#Removing ITS sequences from our reads...\n",
    "cutadapt -a TCCTCCGCTTATTGATATGC \\\n",
    "-A GATGAAGAACGYAGYRAA \\\n",
    "--match-read-wildcards \\\n",
    "--discard-trimmed \\\n",
    "-m 1 \\\n",
    "-o /home/qiime2/Greenhouse_experiment_2017/ITS/Gh_ept2017_A101_R1_001.fastq_trimmed.fastq \\\n",
    "-p /home/qiime2/Greenhouse_experiment_2017/ITS/Gh_ept2017_A101_R2_001.fastq_trimmed.fastq \\\n",
    "/home/qiime2/Greenhouse_experiment_2017/unzipped_GH17-seqs/Gh_expt2017_A101_S101_L001_R1_001.fastq \\\n",
    "/home/qiime2/Greenhouse_experiment_2017/unzipped_GH17-seqs/Gh_expt2017_A101_S101_L001_R2_001.fastq "
   ]
  },
  {
   "cell_type": "markdown",
   "metadata": {},
   "source": [
    "lastly, we want to remove our primers from our sequences as well"
   ]
  },
  {
   "cell_type": "code",
   "execution_count": null,
   "metadata": {},
   "outputs": [],
   "source": [
    "qiime cutadapt trim-paired \\\n",
    "--i-demultiplexed-sequences /home/qiime2/Greenhouse_experiment_2017/test/GH_2017_seq.qza  \\\n",
    "--p-adapter-f TCCTCCGCTTATTGATATGC \\ \n",
    "--p-adapter-r GATGAAGAACGYAGYRAA \\\n",
    "--p-match-read-wildcards \\\n",
    "--p-match-adapter-wildcards \\\n",
    "--o-trimmed-sequences /home/qiime2/Greenhouse_experiment_2017/test/Ghexpt2017_16S_trimmed.qza \\\n",
    "--verbose"
   ]
  },
  {
   "cell_type": "code",
   "execution_count": null,
   "metadata": {},
   "outputs": [],
   "source": [
    "qiime cutadapt trim-paired \\\n",
    "--i-demultiplexed-sequences /home/qiime2/Greenhouse_experiment_2017/ITS/GH_2017_seq.qza  \\\n",
    "--p-adapter-f CCGYCAATTYMTTTRAGTT \\ \n",
    "--p-adapter-r GTGCCAGCMGCCGCGGTAA \\\n",
    "--p-match-read-wildcards \\\n",
    "--p-match-adapter-wildcards \\\n",
    "--o-trimmed-sequences /home/qiime2/Greenhouse_experiment_2017/ITS/Ghexpt2017_ITS_trimmed.qza \\\n",
    "--verbose"
   ]
  },
  {
   "cell_type": "markdown",
   "metadata": {},
   "source": [
    "Now, we will write a for-loop that incorporates cutadapt function! (Done!, please look at cutadapt_R1.sh)"
   ]
  },
  {
   "cell_type": "code",
   "execution_count": null,
   "metadata": {},
   "outputs": [],
   "source": []
  }
 ],
 "metadata": {
  "kernelspec": {
   "display_name": "Python 3",
   "language": "python",
   "name": "python3"
  },
  "language_info": {
   "codemirror_mode": {
    "name": "ipython",
    "version": 3
   },
   "file_extension": ".py",
   "mimetype": "text/x-python",
   "name": "python",
   "nbconvert_exporter": "python",
   "pygments_lexer": "ipython3",
   "version": "3.5.4"
  }
 },
 "nbformat": 4,
 "nbformat_minor": 2
}
